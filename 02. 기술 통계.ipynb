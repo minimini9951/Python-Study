{
 "cells": [
  {
   "cell_type": "code",
   "execution_count": 2,
   "id": "6f348dac",
   "metadata": {},
   "outputs": [],
   "source": [
    "import numpy as np"
   ]
  },
  {
   "cell_type": "markdown",
   "id": "d5a259ec",
   "metadata": {},
   "source": [
    "#### 데이터 개수 : (len, count)"
   ]
  },
  {
   "cell_type": "code",
   "execution_count": 3,
   "id": "28c239a6",
   "metadata": {},
   "outputs": [],
   "source": [
    "x = np.array([18, 5, 10, 23, 19, -8, 10, 0, 0, 5, 2, 15, 8,\n",
    "              2, 5, 4, 15, -1, 4, -7, -24, 7,  9, -6, 23, -13])"
   ]
  },
  {
   "cell_type": "code",
   "execution_count": 4,
   "id": "4c73512b",
   "metadata": {},
   "outputs": [
    {
     "data": {
      "text/plain": [
       "26"
      ]
     },
     "execution_count": 4,
     "metadata": {},
     "output_type": "execute_result"
    }
   ],
   "source": [
    "len(x)"
   ]
  },
  {
   "cell_type": "markdown",
   "id": "2da892f7",
   "metadata": {},
   "source": [
    "#### 평균(mean, average)"
   ]
  },
  {
   "cell_type": "code",
   "execution_count": 6,
   "id": "8034b8fc",
   "metadata": {},
   "outputs": [
    {
     "data": {
      "text/plain": [
       "4.8076923076923075"
      ]
     },
     "execution_count": 6,
     "metadata": {},
     "output_type": "execute_result"
    }
   ],
   "source": [
    "np.mean(x)"
   ]
  },
  {
   "cell_type": "markdown",
   "id": "6c069c53",
   "metadata": {},
   "source": [
    "#### 분산(var, variance)\n",
    "- 표본 분산\n",
    "- 불편 분산"
   ]
  },
  {
   "cell_type": "code",
   "execution_count": 7,
   "id": "470cd2e7",
   "metadata": {},
   "outputs": [
    {
     "data": {
      "text/plain": [
       "115.23224852071006"
      ]
     },
     "execution_count": 7,
     "metadata": {},
     "output_type": "execute_result"
    }
   ],
   "source": [
    "np.var(x)  # 표본 분산"
   ]
  },
  {
   "cell_type": "code",
   "execution_count": 8,
   "id": "f9bc4ee1",
   "metadata": {},
   "outputs": [
    {
     "data": {
      "text/plain": [
       "119.84153846153846"
      ]
     },
     "execution_count": 8,
     "metadata": {},
     "output_type": "execute_result"
    }
   ],
   "source": [
    "np.var(x, ddof=1) # 비편향 분산. 추후 공부하세요"
   ]
  },
  {
   "cell_type": "markdown",
   "id": "a3eeed24",
   "metadata": {},
   "source": [
    "#### 표준 편차(std, standard divation)"
   ]
  },
  {
   "cell_type": "code",
   "execution_count": 10,
   "id": "9d14f388",
   "metadata": {},
   "outputs": [
    {
     "data": {
      "text/plain": [
       "10.734628476137871"
      ]
     },
     "execution_count": 10,
     "metadata": {},
     "output_type": "execute_result"
    }
   ],
   "source": [
    "# 분산의 양의 제곱근 값\n",
    "np.std(x)"
   ]
  },
  {
   "cell_type": "markdown",
   "id": "5759a1f1",
   "metadata": {},
   "source": [
    "#### 최댓값(max, maximum)"
   ]
  },
  {
   "cell_type": "code",
   "execution_count": 11,
   "id": "730d1078",
   "metadata": {},
   "outputs": [
    {
     "data": {
      "text/plain": [
       "23"
      ]
     },
     "execution_count": 11,
     "metadata": {},
     "output_type": "execute_result"
    }
   ],
   "source": [
    "np.max(x)"
   ]
  },
  {
   "cell_type": "markdown",
   "id": "b1e33cb3",
   "metadata": {},
   "source": [
    "#### 최솟값(min, minimum)"
   ]
  },
  {
   "cell_type": "code",
   "execution_count": 12,
   "id": "b1ff99da",
   "metadata": {},
   "outputs": [
    {
     "data": {
      "text/plain": [
       "-24"
      ]
     },
     "execution_count": 12,
     "metadata": {},
     "output_type": "execute_result"
    }
   ],
   "source": [
    "np.min(x)"
   ]
  },
  {
   "cell_type": "markdown",
   "id": "d37301e8",
   "metadata": {},
   "source": [
    "#### 중앙값(median)"
   ]
  },
  {
   "cell_type": "code",
   "execution_count": 13,
   "id": "af2f5251",
   "metadata": {},
   "outputs": [
    {
     "data": {
      "text/plain": [
       "5.0"
      ]
     },
     "execution_count": 13,
     "metadata": {},
     "output_type": "execute_result"
    }
   ],
   "source": [
    "np.median(x)"
   ]
  },
  {
   "cell_type": "markdown",
   "id": "2609d4e9",
   "metadata": {},
   "source": [
    "#### 사분위수(quantile)\n",
    "- 백분위수(percentile)"
   ]
  },
  {
   "cell_type": "code",
   "execution_count": 14,
   "id": "4acd118d",
   "metadata": {},
   "outputs": [
    {
     "data": {
      "text/plain": [
       "-24.0"
      ]
     },
     "execution_count": 14,
     "metadata": {},
     "output_type": "execute_result"
    }
   ],
   "source": [
    "np.percentile(x, 0) #최소값"
   ]
  },
  {
   "cell_type": "code",
   "execution_count": 15,
   "id": "4899ff02",
   "metadata": {},
   "outputs": [
    {
     "data": {
      "text/plain": [
       "0.0"
      ]
     },
     "execution_count": 15,
     "metadata": {},
     "output_type": "execute_result"
    }
   ],
   "source": [
    "np.percentile(x, 25) # 1사분위수"
   ]
  },
  {
   "cell_type": "code",
   "execution_count": null,
   "id": "0a88acab",
   "metadata": {},
   "outputs": [],
   "source": []
  }
 ],
 "metadata": {
  "kernelspec": {
   "display_name": "Python 3 (ipykernel)",
   "language": "python",
   "name": "python3"
  },
  "language_info": {
   "codemirror_mode": {
    "name": "ipython",
    "version": 3
   },
   "file_extension": ".py",
   "mimetype": "text/x-python",
   "name": "python",
   "nbconvert_exporter": "python",
   "pygments_lexer": "ipython3",
   "version": "3.9.7"
  }
 },
 "nbformat": 4,
 "nbformat_minor": 5
}
