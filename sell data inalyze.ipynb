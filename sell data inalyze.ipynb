{
 "cells": [
  {
   "cell_type": "code",
   "execution_count": 1,
   "id": "4c9af325-68c9-40b1-8728-4d2f33272c3b",
   "metadata": {
    "execution": {
     "iopub.execute_input": "2022-10-27T07:03:09.154765Z",
     "iopub.status.busy": "2022-10-27T07:03:09.154765Z",
     "iopub.status.idle": "2022-10-27T07:03:12.585563Z",
     "shell.execute_reply": "2022-10-27T07:03:12.583965Z",
     "shell.execute_reply.started": "2022-10-27T07:03:09.154765Z"
    }
   },
   "outputs": [],
   "source": [
    "import numpy as np\n",
    "import pandas as pd\n",
    "import matplotlib.pyplot as plt"
   ]
  },
  {
   "cell_type": "code",
   "execution_count": 257,
   "id": "fbf6d831-7b52-4d0f-a6d9-88e68c75e12d",
   "metadata": {
    "execution": {
     "iopub.execute_input": "2022-10-27T11:15:41.752076Z",
     "iopub.status.busy": "2022-10-27T11:15:41.752076Z",
     "iopub.status.idle": "2022-10-27T11:15:41.795036Z",
     "shell.execute_reply": "2022-10-27T11:15:41.792962Z",
     "shell.execute_reply.started": "2022-10-27T11:15:41.752076Z"
    },
    "tags": []
   },
   "outputs": [],
   "source": [
    "file_path = 'C:/k_digital/source/data/chipotle.csv'\n",
    "chipo = pd.read_csv(file_path)"
   ]
  },
  {
   "cell_type": "code",
   "execution_count": 258,
   "id": "08db0db8-974e-413f-8104-191917244b6e",
   "metadata": {
    "execution": {
     "iopub.execute_input": "2022-10-27T11:15:42.543879Z",
     "iopub.status.busy": "2022-10-27T11:15:42.543879Z",
     "iopub.status.idle": "2022-10-27T11:15:42.576993Z",
     "shell.execute_reply": "2022-10-27T11:15:42.575893Z",
     "shell.execute_reply.started": "2022-10-27T11:15:42.543879Z"
    },
    "tags": []
   },
   "outputs": [
    {
     "data": {
      "text/html": [
       "<div>\n",
       "<style scoped>\n",
       "    .dataframe tbody tr th:only-of-type {\n",
       "        vertical-align: middle;\n",
       "    }\n",
       "\n",
       "    .dataframe tbody tr th {\n",
       "        vertical-align: top;\n",
       "    }\n",
       "\n",
       "    .dataframe thead th {\n",
       "        text-align: right;\n",
       "    }\n",
       "</style>\n",
       "<table border=\"1\" class=\"dataframe\">\n",
       "  <thead>\n",
       "    <tr style=\"text-align: right;\">\n",
       "      <th></th>\n",
       "      <th>order_id</th>\n",
       "      <th>quantity</th>\n",
       "      <th>item_name</th>\n",
       "      <th>choice_description</th>\n",
       "      <th>item_price</th>\n",
       "    </tr>\n",
       "  </thead>\n",
       "  <tbody>\n",
       "    <tr>\n",
       "      <th>0</th>\n",
       "      <td>1</td>\n",
       "      <td>1</td>\n",
       "      <td>Chips and Fresh Tomato Salsa</td>\n",
       "      <td>NaN</td>\n",
       "      <td>$2.39</td>\n",
       "    </tr>\n",
       "    <tr>\n",
       "      <th>1</th>\n",
       "      <td>1</td>\n",
       "      <td>1</td>\n",
       "      <td>Izze</td>\n",
       "      <td>[Clementine]</td>\n",
       "      <td>$3.39</td>\n",
       "    </tr>\n",
       "    <tr>\n",
       "      <th>2</th>\n",
       "      <td>1</td>\n",
       "      <td>1</td>\n",
       "      <td>Nantucket Nectar</td>\n",
       "      <td>[Apple]</td>\n",
       "      <td>$3.39</td>\n",
       "    </tr>\n",
       "    <tr>\n",
       "      <th>3</th>\n",
       "      <td>1</td>\n",
       "      <td>1</td>\n",
       "      <td>Chips and Tomatillo-Green Chili Salsa</td>\n",
       "      <td>NaN</td>\n",
       "      <td>$2.39</td>\n",
       "    </tr>\n",
       "    <tr>\n",
       "      <th>4</th>\n",
       "      <td>2</td>\n",
       "      <td>2</td>\n",
       "      <td>Chicken Bowl</td>\n",
       "      <td>[Tomatillo-Red Chili Salsa (Hot), [Black Beans...</td>\n",
       "      <td>$16.98</td>\n",
       "    </tr>\n",
       "    <tr>\n",
       "      <th>...</th>\n",
       "      <td>...</td>\n",
       "      <td>...</td>\n",
       "      <td>...</td>\n",
       "      <td>...</td>\n",
       "      <td>...</td>\n",
       "    </tr>\n",
       "    <tr>\n",
       "      <th>4617</th>\n",
       "      <td>1833</td>\n",
       "      <td>1</td>\n",
       "      <td>Steak Burrito</td>\n",
       "      <td>[Fresh Tomato Salsa, [Rice, Black Beans, Sour ...</td>\n",
       "      <td>$11.75</td>\n",
       "    </tr>\n",
       "    <tr>\n",
       "      <th>4618</th>\n",
       "      <td>1833</td>\n",
       "      <td>1</td>\n",
       "      <td>Steak Burrito</td>\n",
       "      <td>[Fresh Tomato Salsa, [Rice, Sour Cream, Cheese...</td>\n",
       "      <td>$11.75</td>\n",
       "    </tr>\n",
       "    <tr>\n",
       "      <th>4619</th>\n",
       "      <td>1834</td>\n",
       "      <td>1</td>\n",
       "      <td>Chicken Salad Bowl</td>\n",
       "      <td>[Fresh Tomato Salsa, [Fajita Vegetables, Pinto...</td>\n",
       "      <td>$11.25</td>\n",
       "    </tr>\n",
       "    <tr>\n",
       "      <th>4620</th>\n",
       "      <td>1834</td>\n",
       "      <td>1</td>\n",
       "      <td>Chicken Salad Bowl</td>\n",
       "      <td>[Fresh Tomato Salsa, [Fajita Vegetables, Lettu...</td>\n",
       "      <td>$8.75</td>\n",
       "    </tr>\n",
       "    <tr>\n",
       "      <th>4621</th>\n",
       "      <td>1834</td>\n",
       "      <td>1</td>\n",
       "      <td>Chicken Salad Bowl</td>\n",
       "      <td>[Fresh Tomato Salsa, [Fajita Vegetables, Pinto...</td>\n",
       "      <td>$8.75</td>\n",
       "    </tr>\n",
       "  </tbody>\n",
       "</table>\n",
       "<p>4622 rows × 5 columns</p>\n",
       "</div>"
      ],
      "text/plain": [
       "      order_id  quantity                              item_name  \\\n",
       "0            1         1           Chips and Fresh Tomato Salsa   \n",
       "1            1         1                                   Izze   \n",
       "2            1         1                       Nantucket Nectar   \n",
       "3            1         1  Chips and Tomatillo-Green Chili Salsa   \n",
       "4            2         2                           Chicken Bowl   \n",
       "...        ...       ...                                    ...   \n",
       "4617      1833         1                          Steak Burrito   \n",
       "4618      1833         1                          Steak Burrito   \n",
       "4619      1834         1                     Chicken Salad Bowl   \n",
       "4620      1834         1                     Chicken Salad Bowl   \n",
       "4621      1834         1                     Chicken Salad Bowl   \n",
       "\n",
       "                                     choice_description item_price  \n",
       "0                                                   NaN     $2.39   \n",
       "1                                          [Clementine]     $3.39   \n",
       "2                                               [Apple]     $3.39   \n",
       "3                                                   NaN     $2.39   \n",
       "4     [Tomatillo-Red Chili Salsa (Hot), [Black Beans...    $16.98   \n",
       "...                                                 ...        ...  \n",
       "4617  [Fresh Tomato Salsa, [Rice, Black Beans, Sour ...    $11.75   \n",
       "4618  [Fresh Tomato Salsa, [Rice, Sour Cream, Cheese...    $11.75   \n",
       "4619  [Fresh Tomato Salsa, [Fajita Vegetables, Pinto...    $11.25   \n",
       "4620  [Fresh Tomato Salsa, [Fajita Vegetables, Lettu...     $8.75   \n",
       "4621  [Fresh Tomato Salsa, [Fajita Vegetables, Pinto...     $8.75   \n",
       "\n",
       "[4622 rows x 5 columns]"
      ]
     },
     "execution_count": 258,
     "metadata": {},
     "output_type": "execute_result"
    }
   ],
   "source": [
    "chipo"
   ]
  },
  {
   "cell_type": "code",
   "execution_count": 220,
   "id": "4229bac0-346b-49c1-880a-cef3c3ffdb0c",
   "metadata": {
    "execution": {
     "iopub.execute_input": "2022-10-27T09:03:41.632538Z",
     "iopub.status.busy": "2022-10-27T09:03:41.631538Z",
     "iopub.status.idle": "2022-10-27T09:03:41.647087Z",
     "shell.execute_reply": "2022-10-27T09:03:41.645692Z",
     "shell.execute_reply.started": "2022-10-27T09:03:41.632538Z"
    },
    "tags": []
   },
   "outputs": [],
   "source": [
    "# $ 제거\n",
    "item = []\n",
    "for i in list(chipo.loc[:,'item_price']):\n",
    "    item.append(i[1:])\n",
    "chipo = chipo.drop('item_price', axis = 1)\n",
    "chipo['item_price'] = item"
   ]
  },
  {
   "cell_type": "code",
   "execution_count": 221,
   "id": "3ef8fba5-9825-429a-a64b-c7c908790f25",
   "metadata": {
    "execution": {
     "iopub.execute_input": "2022-10-27T09:03:41.912660Z",
     "iopub.status.busy": "2022-10-27T09:03:41.912660Z",
     "iopub.status.idle": "2022-10-27T09:03:41.944726Z",
     "shell.execute_reply": "2022-10-27T09:03:41.944198Z",
     "shell.execute_reply.started": "2022-10-27T09:03:41.912660Z"
    },
    "tags": []
   },
   "outputs": [
    {
     "data": {
      "text/plain": [
       "'9.39 '"
      ]
     },
     "execution_count": 221,
     "metadata": {},
     "output_type": "execute_result"
    }
   ],
   "source": [
    "# 가장 비싼 음식\n",
    "chipo.item_price.max()"
   ]
  },
  {
   "cell_type": "code",
   "execution_count": 222,
   "id": "023edae6-fa73-4bfb-b5ae-75e215a2b768",
   "metadata": {
    "execution": {
     "iopub.execute_input": "2022-10-27T09:03:42.129391Z",
     "iopub.status.busy": "2022-10-27T09:03:42.129391Z",
     "iopub.status.idle": "2022-10-27T09:03:42.161285Z",
     "shell.execute_reply": "2022-10-27T09:03:42.160011Z",
     "shell.execute_reply.started": "2022-10-27T09:03:42.129391Z"
    },
    "tags": []
   },
   "outputs": [
    {
     "data": {
      "text/plain": [
       "23"
      ]
     },
     "execution_count": 222,
     "metadata": {},
     "output_type": "execute_result"
    }
   ],
   "source": [
    "# 한 테이블에서 제일 많이 주문한 양\n",
    "chipo.groupby('order_id').size().max()"
   ]
  },
  {
   "cell_type": "code",
   "execution_count": 247,
   "id": "bc43a8ea-7117-4148-b5f3-a0c740ce011d",
   "metadata": {
    "execution": {
     "iopub.execute_input": "2022-10-27T11:02:30.108757Z",
     "iopub.status.busy": "2022-10-27T11:02:30.108757Z",
     "iopub.status.idle": "2022-10-27T11:02:30.146199Z",
     "shell.execute_reply": "2022-10-27T11:02:30.144745Z",
     "shell.execute_reply.started": "2022-10-27T11:02:30.108757Z"
    },
    "tags": []
   },
   "outputs": [
    {
     "data": {
      "text/plain": [
       "item_name\n",
       "Chicken Bowl                    761\n",
       "Chicken Burrito                 591\n",
       "Chips and Guacamole             506\n",
       "Steak Burrito                   386\n",
       "Canned Soft Drink               351\n",
       "Chips                           230\n",
       "Steak Bowl                      221\n",
       "Bottled Water                   211\n",
       "Chips and Fresh Tomato Salsa    130\n",
       "Canned Soda                     126\n",
       "Name: quantity, dtype: int64"
      ]
     },
     "execution_count": 247,
     "metadata": {},
     "output_type": "execute_result"
    }
   ],
   "source": [
    "# 가장 많이 주문한 음식 Top 10\n",
    "chipo.groupby('item_name').sum()['quantity'].sort_values(\n",
    "    ascending=False).head(10)"
   ]
  },
  {
   "cell_type": "code",
   "execution_count": 260,
   "id": "d5d144f7-b59e-4f94-a0fc-e9c1b1eaf3cc",
   "metadata": {
    "execution": {
     "iopub.execute_input": "2022-10-27T11:15:51.362350Z",
     "iopub.status.busy": "2022-10-27T11:15:51.360122Z",
     "iopub.status.idle": "2022-10-27T11:15:51.389456Z",
     "shell.execute_reply": "2022-10-27T11:15:51.387616Z",
     "shell.execute_reply.started": "2022-10-27T11:15:51.362350Z"
    },
    "tags": []
   },
   "outputs": [],
   "source": [
    "chipo['item_name'] = chipo['item_name'].apply(\n",
    "    lambda i: i.replace('-', ' ') if '-' in i else i)"
   ]
  }
 ],
 "metadata": {
  "kernelspec": {
   "display_name": "Python 3 (ipykernel)",
   "language": "python",
   "name": "python3"
  },
  "language_info": {
   "codemirror_mode": {
    "name": "ipython",
    "version": 3
   },
   "file_extension": ".py",
   "mimetype": "text/x-python",
   "name": "python",
   "nbconvert_exporter": "python",
   "pygments_lexer": "ipython3",
   "version": "3.9.13"
  }
 },
 "nbformat": 4,
 "nbformat_minor": 5
}
