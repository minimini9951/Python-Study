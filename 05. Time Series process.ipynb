{
 "cells": [
  {
   "cell_type": "code",
   "execution_count": 5,
   "id": "a3e7d79e-4940-4f05-a2ec-9507eeabeb0c",
   "metadata": {
    "execution": {
     "iopub.execute_input": "2022-10-27T05:11:17.234122Z",
     "iopub.status.busy": "2022-10-27T05:11:17.233120Z",
     "iopub.status.idle": "2022-10-27T05:11:17.243419Z",
     "shell.execute_reply": "2022-10-27T05:11:17.243154Z",
     "shell.execute_reply.started": "2022-10-27T05:11:17.234122Z"
    },
    "tags": []
   },
   "outputs": [],
   "source": [
    "import numpy as np\n",
    "import pandas as pd"
   ]
  },
  {
   "cell_type": "code",
   "execution_count": 6,
   "id": "d80a92c5-9a2d-4ae7-9471-388fb6552bfa",
   "metadata": {
    "execution": {
     "iopub.execute_input": "2022-10-27T05:11:17.673032Z",
     "iopub.status.busy": "2022-10-27T05:11:17.673032Z",
     "iopub.status.idle": "2022-10-27T05:11:17.705124Z",
     "shell.execute_reply": "2022-10-27T05:11:17.704621Z",
     "shell.execute_reply.started": "2022-10-27T05:11:17.673032Z"
    },
    "tags": []
   },
   "outputs": [
    {
     "data": {
      "text/plain": [
       "DatetimeIndex(['2022-10-01', '2022-10-02', '2022-10-03', '2022-10-04',\n",
       "               '2022-10-05', '2022-10-06', '2022-10-07', '2022-10-08',\n",
       "               '2022-10-09', '2022-10-10', '2022-10-11', '2022-10-12',\n",
       "               '2022-10-13', '2022-10-14', '2022-10-15', '2022-10-16',\n",
       "               '2022-10-17', '2022-10-18', '2022-10-19', '2022-10-20',\n",
       "               '2022-10-21', '2022-10-22', '2022-10-23', '2022-10-24',\n",
       "               '2022-10-25', '2022-10-26', '2022-10-27', '2022-10-28',\n",
       "               '2022-10-29', '2022-10-30', '2022-10-31'],\n",
       "              dtype='datetime64[ns]', freq='D')"
      ]
     },
     "execution_count": 6,
     "metadata": {},
     "output_type": "execute_result"
    }
   ],
   "source": [
    "pd.date_range('2022-10-1', '2022-10-31', freq='D')"
   ]
  },
  {
   "cell_type": "markdown",
   "id": "756aa326-b3e3-4ac4-ab66-94f7cfa7d08e",
   "metadata": {},
   "source": [
    "### shift"
   ]
  },
  {
   "cell_type": "code",
   "execution_count": 7,
   "id": "51c08ead-9f6b-4b95-983e-1d9f9131562e",
   "metadata": {
    "execution": {
     "iopub.execute_input": "2022-10-27T05:11:18.040413Z",
     "iopub.status.busy": "2022-10-27T05:11:18.040413Z",
     "iopub.status.idle": "2022-10-27T05:11:18.073887Z",
     "shell.execute_reply": "2022-10-27T05:11:18.073887Z",
     "shell.execute_reply.started": "2022-10-27T05:11:18.040413Z"
    },
    "tags": []
   },
   "outputs": [
    {
     "data": {
      "text/plain": [
       "2018-01-31   -2.175900\n",
       "2018-02-28   -0.078630\n",
       "2018-03-31   -0.111533\n",
       "2018-04-30   -1.101081\n",
       "Freq: M, dtype: float64"
      ]
     },
     "execution_count": 7,
     "metadata": {},
     "output_type": "execute_result"
    }
   ],
   "source": [
    "ts = pd.Series(np.random.randn(4), index = pd.date_range('2018-1-1', periods=4, freq='M'))\n",
    "ts"
   ]
  },
  {
   "cell_type": "code",
   "execution_count": 8,
   "id": "be6374a8-b008-4a54-a27b-1071b789d595",
   "metadata": {
    "execution": {
     "iopub.execute_input": "2022-10-27T05:11:25.023289Z",
     "iopub.status.busy": "2022-10-27T05:11:25.023289Z",
     "iopub.status.idle": "2022-10-27T05:11:25.037073Z",
     "shell.execute_reply": "2022-10-27T05:11:25.036322Z",
     "shell.execute_reply.started": "2022-10-27T05:11:25.023289Z"
    }
   },
   "outputs": [
    {
     "data": {
      "text/plain": [
       "2018-01-31   -0.078630\n",
       "2018-02-28   -0.111533\n",
       "2018-03-31   -1.101081\n",
       "2018-04-30         NaN\n",
       "Freq: M, dtype: float64"
      ]
     },
     "execution_count": 8,
     "metadata": {},
     "output_type": "execute_result"
    }
   ],
   "source": [
    "ts.shift(-1)"
   ]
  },
  {
   "cell_type": "code",
   "execution_count": 9,
   "id": "eccc5af9-2a4e-4523-bf0a-31b47cea1b22",
   "metadata": {
    "execution": {
     "iopub.execute_input": "2022-10-27T05:11:53.461771Z",
     "iopub.status.busy": "2022-10-27T05:11:53.461771Z",
     "iopub.status.idle": "2022-10-27T05:11:53.480377Z",
     "shell.execute_reply": "2022-10-27T05:11:53.480377Z",
     "shell.execute_reply.started": "2022-10-27T05:11:53.461771Z"
    },
    "tags": []
   },
   "outputs": [
    {
     "data": {
      "text/plain": [
       "2018-02-28   -2.175900\n",
       "2018-03-31   -0.078630\n",
       "2018-04-30   -0.111533\n",
       "2018-05-31   -1.101081\n",
       "Freq: M, dtype: float64"
      ]
     },
     "execution_count": 9,
     "metadata": {},
     "output_type": "execute_result"
    }
   ],
   "source": [
    "ts.shift(1, freq='M')"
   ]
  },
  {
   "cell_type": "markdown",
   "id": "124951c5-d34c-495a-9047-0791712e57cf",
   "metadata": {},
   "source": [
    "### resample : 날짜나 시간 간격을 재조정하는 기능\n",
    "- up-sample : 데이터 양이 증가\n",
    "- down-sample : 데이터 양이 감수"
   ]
  },
  {
   "cell_type": "code",
   "execution_count": 10,
   "id": "9b7db707-8794-4058-bbe3-8c0d11cae0f6",
   "metadata": {
    "execution": {
     "iopub.execute_input": "2022-10-27T05:16:31.823514Z",
     "iopub.status.busy": "2022-10-27T05:16:31.823514Z",
     "iopub.status.idle": "2022-10-27T05:16:31.844585Z",
     "shell.execute_reply": "2022-10-27T05:16:31.844585Z",
     "shell.execute_reply.started": "2022-10-27T05:16:31.823514Z"
    }
   },
   "outputs": [
    {
     "data": {
      "text/plain": [
       "2018-01-01   -0.148783\n",
       "2018-01-02    1.162724\n",
       "2018-01-03    0.860678\n",
       "2018-01-04    0.778879\n",
       "2018-01-05    1.563848\n",
       "2018-01-06    1.590596\n",
       "2018-01-07    0.816834\n",
       "2018-01-08   -1.598904\n",
       "2018-01-09    0.505014\n",
       "2018-01-10    0.151223\n",
       "2018-01-11   -0.166343\n",
       "2018-01-12   -0.869001\n",
       "2018-01-13   -0.331934\n",
       "2018-01-14    0.791387\n",
       "2018-01-15   -1.372709\n",
       "2018-01-16    0.895252\n",
       "2018-01-17    0.739491\n",
       "2018-01-18   -0.059088\n",
       "2018-01-19    0.635245\n",
       "2018-01-20   -0.200575\n",
       "Freq: D, dtype: float64"
      ]
     },
     "execution_count": 10,
     "metadata": {},
     "output_type": "execute_result"
    }
   ],
   "source": [
    "ts = pd.Series(np.random.randn(100), index = pd.date_range('2018-1-1', periods=100, freq='D'))\n",
    "ts.head(20)"
   ]
  },
  {
   "cell_type": "code",
   "execution_count": 11,
   "id": "1d3d6b8e-288d-42ba-a148-6ec0d42efc7f",
   "metadata": {
    "execution": {
     "iopub.execute_input": "2022-10-27T05:24:40.977350Z",
     "iopub.status.busy": "2022-10-27T05:24:40.977350Z",
     "iopub.status.idle": "2022-10-27T05:24:41.009049Z",
     "shell.execute_reply": "2022-10-27T05:24:41.008397Z",
     "shell.execute_reply.started": "2022-10-27T05:24:40.977350Z"
    },
    "tags": []
   },
   "outputs": [
    {
     "data": {
      "text/plain": [
       "<pandas.core.resample.DatetimeIndexResampler object at 0x000001C8AA3FCFD0>"
      ]
     },
     "execution_count": 11,
     "metadata": {},
     "output_type": "execute_result"
    }
   ],
   "source": [
    "ts.resample('M')"
   ]
  }
 ],
 "metadata": {
  "kernelspec": {
   "display_name": "Python 3 (ipykernel)",
   "language": "python",
   "name": "python3"
  },
  "language_info": {
   "codemirror_mode": {
    "name": "ipython",
    "version": 3
   },
   "file_extension": ".py",
   "mimetype": "text/x-python",
   "name": "python",
   "nbconvert_exporter": "python",
   "pygments_lexer": "ipython3",
   "version": "3.9.13"
  }
 },
 "nbformat": 4,
 "nbformat_minor": 5
}
