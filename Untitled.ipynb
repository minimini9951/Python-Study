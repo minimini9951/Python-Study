{
 "cells": [
  {
   "cell_type": "code",
   "execution_count": 1,
   "id": "f959e4ab-3f85-4a89-9c96-8e39fdae1f7f",
   "metadata": {
    "execution": {
     "iopub.execute_input": "2022-12-14T02:22:02.840395Z",
     "iopub.status.busy": "2022-12-14T02:22:02.840395Z",
     "iopub.status.idle": "2022-12-14T02:22:02.948191Z",
     "shell.execute_reply": "2022-12-14T02:22:02.948191Z",
     "shell.execute_reply.started": "2022-12-14T02:22:02.840395Z"
    },
    "tags": []
   },
   "outputs": [],
   "source": [
    "from colabcode import ColabCode"
   ]
  }
 ],
 "metadata": {
  "kernelspec": {
   "display_name": "Python 3 (ipykernel)",
   "language": "python",
   "name": "python3"
  },
  "language_info": {
   "codemirror_mode": {
    "name": "ipython",
    "version": 3
   },
   "file_extension": ".py",
   "mimetype": "text/x-python",
   "name": "python",
   "nbconvert_exporter": "python",
   "pygments_lexer": "ipython3",
   "version": "3.7.12"
  }
 },
 "nbformat": 4,
 "nbformat_minor": 5
}
