{
 "cells": [
  {
   "cell_type": "markdown",
   "id": "258ef506-f70b-4574-a662-25072e46d810",
   "metadata": {},
   "source": [
    "# 데이터 연결하기"
   ]
  },
  {
   "cell_type": "markdown",
   "id": "0d335ddb-71cc-4215-9149-ec358b3adeb3",
   "metadata": {},
   "source": [
    "## 깔끔한 데이터의 조건\n",
    "- 데이터 분석 목적에 맞는 데이터를 모아 새로운 테이블을 만들어야 함.\n",
    "- 측정한 값은 행(row)을 구성해야 함.\n",
    "- 변수는 열(column)으로 구성해야 함."
   ]
  },
  {
   "cell_type": "code",
   "execution_count": 10,
   "id": "2297a20c-82c7-4790-87c5-1f17b5f7b6c1",
   "metadata": {
    "execution": {
     "iopub.execute_input": "2022-10-29T08:08:02.713992Z",
     "iopub.status.busy": "2022-10-29T08:08:02.713992Z",
     "iopub.status.idle": "2022-10-29T08:08:02.750354Z",
     "shell.execute_reply": "2022-10-29T08:08:02.748634Z",
     "shell.execute_reply.started": "2022-10-29T08:08:02.713992Z"
    },
    "tags": []
   },
   "outputs": [],
   "source": [
    "# 라이브러리 로딩\n",
    "import pandas as pd\n",
    "# csv 로딩\n",
    "df1 = pd.read_csv('C:/k_digital/source/data/concat_1.csv')\n",
    "df2 = pd.read_csv('C:/k_digital/source/data/concat_2.csv')\n",
    "df3 = pd.read_csv('C:/k_digital/source/data/concat_3.csv')"
   ]
  },
  {
   "cell_type": "code",
   "execution_count": 3,
   "id": "e402cbda-5c42-4e31-bd2f-c19c9e3ead07",
   "metadata": {
    "execution": {
     "iopub.execute_input": "2022-10-29T08:02:23.314751Z",
     "iopub.status.busy": "2022-10-29T08:02:23.314751Z",
     "iopub.status.idle": "2022-10-29T08:02:23.345318Z",
     "shell.execute_reply": "2022-10-29T08:02:23.343461Z",
     "shell.execute_reply.started": "2022-10-29T08:02:23.314751Z"
    },
    "tags": []
   },
   "outputs": [
    {
     "name": "stdout",
     "output_type": "stream",
     "text": [
      "     A    B    C    D\n",
      "0   a0   b0   c0   d0\n",
      "1   a1   b1   c1   d1\n",
      "2   a2   b2   c2   d2\n",
      "3   a3   b3   c3   d3\n",
      "0   a4   b4   c4   d4\n",
      "1   a5   b5   c5   d5\n",
      "2   a6   b6   c6   d6\n",
      "3   a7   b7   c7   d7\n",
      "0   a8   b8   c8   d8\n",
      "1   a9   b9   c9   d9\n",
      "2  a10  b10  c10  d10\n",
      "3  a11  b11  c11  d11\n"
     ]
    }
   ],
   "source": [
    "# 데이터프레임 연결 : concat()\n",
    "row_concat = pd.concat([df1, df2, df3])\n",
    "print(row_concat)"
   ]
  },
  {
   "cell_type": "code",
   "execution_count": 4,
   "id": "74dc4432-c74e-4d6a-ab6c-7d92138f5d1d",
   "metadata": {
    "execution": {
     "iopub.execute_input": "2022-10-29T08:02:26.031635Z",
     "iopub.status.busy": "2022-10-29T08:02:26.031635Z",
     "iopub.status.idle": "2022-10-29T08:02:26.048391Z",
     "shell.execute_reply": "2022-10-29T08:02:26.047292Z",
     "shell.execute_reply.started": "2022-10-29T08:02:26.031635Z"
    },
    "tags": []
   },
   "outputs": [
    {
     "name": "stdout",
     "output_type": "stream",
     "text": [
      "A    a3\n",
      "B    b3\n",
      "C    c3\n",
      "D    d3\n",
      "Name: 3, dtype: object\n"
     ]
    }
   ],
   "source": [
    "print(row_concat.iloc[3,])"
   ]
  },
  {
   "cell_type": "code",
   "execution_count": 5,
   "id": "2a399f08-4fe3-49da-8b81-07b4aff96060",
   "metadata": {
    "execution": {
     "iopub.execute_input": "2022-10-29T08:02:26.781256Z",
     "iopub.status.busy": "2022-10-29T08:02:26.781256Z",
     "iopub.status.idle": "2022-10-29T08:02:26.800284Z",
     "shell.execute_reply": "2022-10-29T08:02:26.800284Z",
     "shell.execute_reply.started": "2022-10-29T08:02:26.781256Z"
    },
    "tags": []
   },
   "outputs": [],
   "source": [
    "# 시리즈 생성\n",
    "new_row_series = pd.Series(['n1', 'n2', 'n3', 'n4'])"
   ]
  },
  {
   "cell_type": "code",
   "execution_count": 6,
   "id": "1441b5e6-83f8-4f3f-b6c6-04379b66be8e",
   "metadata": {
    "execution": {
     "iopub.execute_input": "2022-10-29T08:03:35.251740Z",
     "iopub.status.busy": "2022-10-29T08:03:35.251740Z",
     "iopub.status.idle": "2022-10-29T08:03:35.296619Z",
     "shell.execute_reply": "2022-10-29T08:03:35.296619Z",
     "shell.execute_reply.started": "2022-10-29T08:03:35.251740Z"
    }
   },
   "outputs": [
    {
     "name": "stdout",
     "output_type": "stream",
     "text": [
      "     A    B    C    D    0\n",
      "0   a0   b0   c0   d0  NaN\n",
      "1   a1   b1   c1   d1  NaN\n",
      "2   a2   b2   c2   d2  NaN\n",
      "3   a3   b3   c3   d3  NaN\n",
      "0  NaN  NaN  NaN  NaN   n1\n",
      "1  NaN  NaN  NaN  NaN   n2\n",
      "2  NaN  NaN  NaN  NaN   n3\n",
      "3  NaN  NaN  NaN  NaN   n4\n"
     ]
    }
   ],
   "source": [
    "# 데이터 프레임과 시리즈 concat으로 연결\n",
    "print(pd.concat([df1, new_row_series]))"
   ]
  },
  {
   "cell_type": "code",
   "execution_count": 12,
   "id": "bdbc1c13-9f85-41f9-9875-8d83920b2c63",
   "metadata": {
    "execution": {
     "iopub.execute_input": "2022-10-29T08:10:07.374432Z",
     "iopub.status.busy": "2022-10-29T08:10:07.374432Z",
     "iopub.status.idle": "2022-10-29T08:10:07.409471Z",
     "shell.execute_reply": "2022-10-29T08:10:07.408331Z",
     "shell.execute_reply.started": "2022-10-29T08:10:07.374432Z"
    },
    "tags": []
   },
   "outputs": [
    {
     "name": "stdout",
     "output_type": "stream",
     "text": [
      "    A   B   C   D\n",
      "0  n1  n2  n3  n4\n",
      "    A   B   C   D\n",
      "0  a0  b0  c0  d0\n",
      "1  a1  b1  c1  d1\n",
      "2  a2  b2  c2  d2\n",
      "3  a3  b3  c3  d3\n",
      "0  n1  n2  n3  n4\n"
     ]
    }
   ],
   "source": [
    "# 시리즈는 행이 1개인 데이터 프레임\n",
    "# 1개의 행을 가지는 데이터 프레임을 생성\n",
    "new_row_df = pd.DataFrame([['n1', 'n2', 'n3', 'n4']],\n",
    "                          columns=['A', 'B', 'C', 'D'])\n",
    "print(new_row_df)\n",
    "# df1에 1개의 행을 가지는 데이터 프레임 연결\n",
    "print(pd.concat([df1, new_row_df]))"
   ]
  },
  {
   "cell_type": "code",
   "execution_count": 14,
   "id": "0dbffa65-bb9d-4500-8371-c8a9bf4c2b3c",
   "metadata": {
    "execution": {
     "iopub.execute_input": "2022-10-29T08:14:39.269996Z",
     "iopub.status.busy": "2022-10-29T08:14:39.269996Z",
     "iopub.status.idle": "2022-10-29T08:14:39.295370Z",
     "shell.execute_reply": "2022-10-29T08:14:39.293671Z",
     "shell.execute_reply.started": "2022-10-29T08:14:39.269996Z"
    },
    "tags": []
   },
   "outputs": [
    {
     "name": "stdout",
     "output_type": "stream",
     "text": [
      "    A   B   C   D\n",
      "0  a0  b0  c0  d0\n",
      "1  a1  b1  c1  d1\n",
      "2  a2  b2  c2  d2\n",
      "3  a3  b3  c3  d3\n",
      "0  n1  n2  n3  n4\n"
     ]
    },
    {
     "name": "stderr",
     "output_type": "stream",
     "text": [
      "C:\\Users\\minim\\AppData\\Local\\Temp\\ipykernel_8976\\499831293.py:2: FutureWarning: The frame.append method is deprecated and will be removed from pandas in a future version. Use pandas.concat instead.\n",
      "  print(df1.append(new_row_df))\n"
     ]
    }
   ],
   "source": [
    "# append 는 pandas에서 사라지기 때문에 concat 사용 할 것\n",
    "print(df1.append(new_row_df))"
   ]
  },
  {
   "cell_type": "code",
   "execution_count": 15,
   "id": "208184cf-a627-4e33-b288-d9dbc819c22a",
   "metadata": {
    "execution": {
     "iopub.execute_input": "2022-10-29T08:16:31.160354Z",
     "iopub.status.busy": "2022-10-29T08:16:31.160354Z",
     "iopub.status.idle": "2022-10-29T08:16:31.190861Z",
     "shell.execute_reply": "2022-10-29T08:16:31.190861Z",
     "shell.execute_reply.started": "2022-10-29T08:16:31.160354Z"
    }
   },
   "outputs": [
    {
     "name": "stdout",
     "output_type": "stream",
     "text": [
      "    A   B   C   D\n",
      "0  a0  b0  c0  d0\n",
      "1  a1  b1  c1  d1\n",
      "2  a2  b2  c2  d2\n",
      "3  a3  b3  c3  d3\n",
      "4  n1  n2  n3  n4\n"
     ]
    },
    {
     "name": "stderr",
     "output_type": "stream",
     "text": [
      "C:\\Users\\minim\\AppData\\Local\\Temp\\ipykernel_8976\\3850634647.py:2: FutureWarning: The frame.append method is deprecated and will be removed from pandas in a future version. Use pandas.concat instead.\n",
      "  print(df1.append(data_dict, ignore_index=True))\n"
     ]
    }
   ],
   "source": [
    "data_dict = {'A': 'n1', 'B': 'n2', 'C': 'n3', 'D': 'n4'}\n",
    "print(df1.append(data_dict, ignore_index=True))"
   ]
  },
  {
   "cell_type": "markdown",
   "id": "36c29645-cdc6-4156-93e6-fac198f6afaf",
   "metadata": {},
   "source": [
    "## 다양한 방법으로 데이터 연결하기"
   ]
  },
  {
   "cell_type": "markdown",
   "id": "afd19d9d-1cdd-4836-ba05-d2f56653a6c0",
   "metadata": {},
   "source": [
    "### ignore_index 인자 사용\n",
    "- 사용 시 데이터를 연결한 다음 인덱스를 0부터 지정"
   ]
  },
  {
   "cell_type": "code",
   "execution_count": 16,
   "id": "85eb0764-7971-4f65-8e7a-7077f56e571c",
   "metadata": {
    "execution": {
     "iopub.execute_input": "2022-10-29T08:22:24.428748Z",
     "iopub.status.busy": "2022-10-29T08:22:24.428748Z",
     "iopub.status.idle": "2022-10-29T08:22:24.454505Z",
     "shell.execute_reply": "2022-10-29T08:22:24.452788Z",
     "shell.execute_reply.started": "2022-10-29T08:22:24.428748Z"
    }
   },
   "outputs": [
    {
     "name": "stdout",
     "output_type": "stream",
     "text": [
      "      A    B    C    D\n",
      "0    a0   b0   c0   d0\n",
      "1    a1   b1   c1   d1\n",
      "2    a2   b2   c2   d2\n",
      "3    a3   b3   c3   d3\n",
      "4    a4   b4   c4   d4\n",
      "5    a5   b5   c5   d5\n",
      "6    a6   b6   c6   d6\n",
      "7    a7   b7   c7   d7\n",
      "8    a8   b8   c8   d8\n",
      "9    a9   b9   c9   d9\n",
      "10  a10  b10  c10  d10\n",
      "11  a11  b11  c11  d11\n"
     ]
    }
   ],
   "source": [
    "row_concat_i = pd.concat([df1, df2, df3], ignore_index=True)\n",
    "print(row_concat_i)"
   ]
  },
  {
   "cell_type": "markdown",
   "id": "8e44f0ea-8d23-4db1-b2b9-6e4b80bbc448",
   "metadata": {},
   "source": [
    "### 열 방향으로 데이터 연결\n",
    "- axis = 1 지정"
   ]
  },
  {
   "cell_type": "code",
   "execution_count": 17,
   "id": "962a87d8-2aa6-4b4f-a65d-dd56d69401ed",
   "metadata": {
    "execution": {
     "iopub.execute_input": "2022-10-29T08:23:46.850635Z",
     "iopub.status.busy": "2022-10-29T08:23:46.850635Z",
     "iopub.status.idle": "2022-10-29T08:23:46.881531Z",
     "shell.execute_reply": "2022-10-29T08:23:46.880123Z",
     "shell.execute_reply.started": "2022-10-29T08:23:46.850635Z"
    }
   },
   "outputs": [
    {
     "name": "stdout",
     "output_type": "stream",
     "text": [
      "    A   B   C   D   A   B   C   D    A    B    C    D\n",
      "0  a0  b0  c0  d0  a4  b4  c4  d4   a8   b8   c8   d8\n",
      "1  a1  b1  c1  d1  a5  b5  c5  d5   a9   b9   c9   d9\n",
      "2  a2  b2  c2  d2  a6  b6  c6  d6  a10  b10  c10  d10\n",
      "3  a3  b3  c3  d3  a7  b7  c7  d7  a11  b11  c11  d11\n"
     ]
    }
   ],
   "source": [
    "col_concat = pd.concat([df1, df2, df3], axis=1)\n",
    "print(col_concat)"
   ]
  },
  {
   "cell_type": "code",
   "execution_count": 20,
   "id": "df3ed703-eae8-4e0a-8d1d-d161f54c0f9e",
   "metadata": {
    "execution": {
     "iopub.execute_input": "2022-10-29T08:26:32.335485Z",
     "iopub.status.busy": "2022-10-29T08:26:32.335485Z",
     "iopub.status.idle": "2022-10-29T08:26:32.359915Z",
     "shell.execute_reply": "2022-10-29T08:26:32.358863Z",
     "shell.execute_reply.started": "2022-10-29T08:26:32.335485Z"
    },
    "tags": []
   },
   "outputs": [
    {
     "name": "stdout",
     "output_type": "stream",
     "text": [
      "    A   A    A\n",
      "0  a0  a4   a8\n",
      "1  a1  a5   a9\n",
      "2  a2  a6  a10\n",
      "3  a3  a7  a11\n"
     ]
    }
   ],
   "source": [
    "# 열이름으로 데이터를 추출하면 해당 열 이름의 데이터 모두 추출함\n",
    "print(col_concat['A'])"
   ]
  },
  {
   "cell_type": "code",
   "execution_count": 21,
   "id": "66860b35-781a-41d1-ade0-0563ad90c30f",
   "metadata": {
    "execution": {
     "iopub.execute_input": "2022-10-29T08:26:42.722972Z",
     "iopub.status.busy": "2022-10-29T08:26:42.722972Z",
     "iopub.status.idle": "2022-10-29T08:26:42.755013Z",
     "shell.execute_reply": "2022-10-29T08:26:42.753904Z",
     "shell.execute_reply.started": "2022-10-29T08:26:42.722972Z"
    },
    "tags": []
   },
   "outputs": [
    {
     "name": "stdout",
     "output_type": "stream",
     "text": [
      "    A   B   C   D   A   B   C   D    A    B    C    D new_col_list\n",
      "0  a0  b0  c0  d0  a4  b4  c4  d4   a8   b8   c8   d8           n1\n",
      "1  a1  b1  c1  d1  a5  b5  c5  d5   a9   b9   c9   d9           n2\n",
      "2  a2  b2  c2  d2  a6  b6  c6  d6  a10  b10  c10  d10           n3\n",
      "3  a3  b3  c3  d3  a7  b7  c7  d7  a11  b11  c11  d11           n4\n"
     ]
    }
   ],
   "source": [
    "# 새로운 열 추가\n",
    "col_concat['new_col_list'] = ['n1', 'n2', 'n3', 'n4']\n",
    "print(col_concat)"
   ]
  },
  {
   "cell_type": "code",
   "execution_count": 23,
   "id": "4c607072-e1f3-493f-82d9-41ae4cbc5b0c",
   "metadata": {
    "execution": {
     "iopub.execute_input": "2022-10-29T08:30:09.382976Z",
     "iopub.status.busy": "2022-10-29T08:30:09.382976Z",
     "iopub.status.idle": "2022-10-29T08:30:09.420698Z",
     "shell.execute_reply": "2022-10-29T08:30:09.418742Z",
     "shell.execute_reply.started": "2022-10-29T08:30:09.382976Z"
    },
    "tags": []
   },
   "outputs": [
    {
     "name": "stdout",
     "output_type": "stream",
     "text": [
      "   0   1   2   3   4   5   6   7    8    9    10   11\n",
      "0  a0  b0  c0  d0  a4  b4  c4  d4   a8   b8   c8   d8\n",
      "1  a1  b1  c1  d1  a5  b5  c5  d5   a9   b9   c9   d9\n",
      "2  a2  b2  c2  d2  a6  b6  c6  d6  a10  b10  c10  d10\n",
      "3  a3  b3  c3  d3  a7  b7  c7  d7  a11  b11  c11  d11\n"
     ]
    }
   ],
   "source": [
    "# 열 이름 다시 지정\n",
    "print(pd.concat([df1, df2, df3], axis=1, ignore_index=True))"
   ]
  },
  {
   "cell_type": "markdown",
   "id": "ccbbd943-3386-4b8f-a467-45e32f750c32",
   "metadata": {},
   "source": [
    "### 공통 열과 공통 인덱스만 연결"
   ]
  },
  {
   "cell_type": "code",
   "execution_count": 25,
   "id": "429d59de-8541-448b-8e0a-56a6266e89f5",
   "metadata": {
    "execution": {
     "iopub.execute_input": "2022-10-29T08:32:57.882969Z",
     "iopub.status.busy": "2022-10-29T08:32:57.882969Z",
     "iopub.status.idle": "2022-10-29T08:32:57.917544Z",
     "shell.execute_reply": "2022-10-29T08:32:57.916025Z",
     "shell.execute_reply.started": "2022-10-29T08:32:57.882969Z"
    },
    "tags": []
   },
   "outputs": [
    {
     "name": "stdout",
     "output_type": "stream",
     "text": [
      "    A   B   C   D\n",
      "0  a0  b0  c0  d0\n",
      "1  a1  b1  c1  d1\n",
      "2  a2  b2  c2  d2\n",
      "3  a3  b3  c3  d3\n",
      "<class 'pandas.core.frame.DataFrame'>\n",
      "    E   F   G   H\n",
      "0  a4  b4  c4  d4\n",
      "1  a5  b5  c5  d5\n",
      "2  a6  b6  c6  d6\n",
      "3  a7  b7  c7  d7\n",
      "<class 'pandas.core.frame.DataFrame'>\n",
      "     A    C    F    H\n",
      "0   a8   b8   c8   d8\n",
      "1   a9   b9   c9   d9\n",
      "2  a10  b10  c10  d10\n",
      "3  a11  b11  c11  d11\n",
      "<class 'pandas.core.frame.DataFrame'>\n"
     ]
    }
   ],
   "source": [
    "df1.columns = ['A', 'B', 'C', 'D']\n",
    "df2.columns = ['E', 'F', 'G', 'H']\n",
    "df3.columns = ['A', 'C', 'F', 'H']\n",
    "print(df1)\n",
    "print(type(df1))\n",
    "\n",
    "print(df2)\n",
    "print(type(df2))\n",
    "\n",
    "print(df3)\n",
    "print(type(df3))"
   ]
  },
  {
   "cell_type": "code",
   "execution_count": 26,
   "id": "a41bfe33-81ed-4ff6-8d5d-6e7bbcd91ecc",
   "metadata": {
    "execution": {
     "iopub.execute_input": "2022-10-29T08:33:26.608187Z",
     "iopub.status.busy": "2022-10-29T08:33:26.607281Z",
     "iopub.status.idle": "2022-10-29T08:33:26.641039Z",
     "shell.execute_reply": "2022-10-29T08:33:26.639347Z",
     "shell.execute_reply.started": "2022-10-29T08:33:26.608187Z"
    }
   },
   "outputs": [
    {
     "name": "stdout",
     "output_type": "stream",
     "text": [
      "     A    B    C    D    E    F    G    H\n",
      "0   a0   b0   c0   d0  NaN  NaN  NaN  NaN\n",
      "1   a1   b1   c1   d1  NaN  NaN  NaN  NaN\n",
      "2   a2   b2   c2   d2  NaN  NaN  NaN  NaN\n",
      "3   a3   b3   c3   d3  NaN  NaN  NaN  NaN\n",
      "0  NaN  NaN  NaN  NaN   a4   b4   c4   d4\n",
      "1  NaN  NaN  NaN  NaN   a5   b5   c5   d5\n",
      "2  NaN  NaN  NaN  NaN   a6   b6   c6   d6\n",
      "3  NaN  NaN  NaN  NaN   a7   b7   c7   d7\n",
      "0   a8  NaN   b8  NaN  NaN   c8  NaN   d8\n",
      "1   a9  NaN   b9  NaN  NaN   c9  NaN   d9\n",
      "2  a10  NaN  b10  NaN  NaN  c10  NaN  d10\n",
      "3  a11  NaN  b11  NaN  NaN  c11  NaN  d11\n"
     ]
    }
   ],
   "source": [
    "row_concat = pd.concat([df1, df2, df3])\n",
    "print(row_concat)"
   ]
  },
  {
   "cell_type": "markdown",
   "id": "14dec6bc-2094-49bf-bd10-5be7b8cf36c0",
   "metadata": {},
   "source": [
    "## 공통 열만 골라서 연결\n",
    "- join 인자를 inner로 지정"
   ]
  },
  {
   "cell_type": "code",
   "execution_count": 27,
   "id": "9d830b5c-e770-4c48-b9cd-0b20d4ae5e04",
   "metadata": {
    "execution": {
     "iopub.execute_input": "2022-10-29T08:37:14.216859Z",
     "iopub.status.busy": "2022-10-29T08:37:14.216157Z",
     "iopub.status.idle": "2022-10-29T08:37:14.243359Z",
     "shell.execute_reply": "2022-10-29T08:37:14.242056Z",
     "shell.execute_reply.started": "2022-10-29T08:37:14.216859Z"
    },
    "tags": []
   },
   "outputs": [
    {
     "name": "stdout",
     "output_type": "stream",
     "text": [
      "Empty DataFrame\n",
      "Columns: []\n",
      "Index: [0, 1, 2, 3, 0, 1, 2, 3, 0, 1, 2, 3]\n"
     ]
    }
   ],
   "source": [
    "print(pd.concat([df1, df2, df3], join='inner'))"
   ]
  },
  {
   "cell_type": "markdown",
   "id": "7124149b-b7db-4d55-9627-6efb80136f0a",
   "metadata": {},
   "source": [
    "### df1, df3 공통 열만 골라 연결"
   ]
  },
  {
   "cell_type": "code",
   "execution_count": 28,
   "id": "45e379be-d57c-4485-b3ad-d53b051dd0e8",
   "metadata": {
    "execution": {
     "iopub.execute_input": "2022-10-29T08:38:31.718565Z",
     "iopub.status.busy": "2022-10-29T08:38:31.717571Z",
     "iopub.status.idle": "2022-10-29T08:38:31.746978Z",
     "shell.execute_reply": "2022-10-29T08:38:31.745550Z",
     "shell.execute_reply.started": "2022-10-29T08:38:31.718565Z"
    }
   },
   "outputs": [
    {
     "name": "stdout",
     "output_type": "stream",
     "text": [
      "     A    C\n",
      "0   a0   c0\n",
      "1   a1   c1\n",
      "2   a2   c2\n",
      "3   a3   c3\n",
      "0   a8   b8\n",
      "1   a9   b9\n",
      "2  a10  b10\n",
      "3  a11  b11\n"
     ]
    }
   ],
   "source": [
    "print(pd.concat([df1, df3], ignore_index=False, join='inner'))"
   ]
  },
  {
   "cell_type": "markdown",
   "id": "85639e62-ae7e-4206-b555-9b5661cb2dd9",
   "metadata": {},
   "source": [
    "### 행 방향으로 연결"
   ]
  },
  {
   "cell_type": "code",
   "execution_count": 30,
   "id": "e0db6b86-db86-486e-8d61-79209fd924c9",
   "metadata": {
    "execution": {
     "iopub.execute_input": "2022-10-29T08:39:57.945084Z",
     "iopub.status.busy": "2022-10-29T08:39:57.945084Z",
     "iopub.status.idle": "2022-10-29T08:39:57.979029Z",
     "shell.execute_reply": "2022-10-29T08:39:57.979029Z",
     "shell.execute_reply.started": "2022-10-29T08:39:57.945084Z"
    },
    "tags": []
   },
   "outputs": [
    {
     "name": "stdout",
     "output_type": "stream",
     "text": [
      "    A   B   C   D\n",
      "0  a0  b0  c0  d0\n",
      "1  a1  b1  c1  d1\n",
      "2  a2  b2  c2  d2\n",
      "3  a3  b3  c3  d3\n",
      "    E   F   G   H\n",
      "4  a4  b4  c4  d4\n",
      "5  a5  b5  c5  d5\n",
      "6  a6  b6  c6  d6\n",
      "7  a7  b7  c7  d7\n",
      "     A    C    F    H\n",
      "0   a8   b8   c8   d8\n",
      "2   a9   b9   c9   d9\n",
      "5  a10  b10  c10  d10\n",
      "7  a11  b11  c11  d11\n"
     ]
    }
   ],
   "source": [
    "df1.index = [0, 1, 2, 3]\n",
    "df2.index = [4, 5, 6, 7]\n",
    "df3.index = [0, 2, 5, 7]\n",
    "print(df1)\n",
    "print(df2)\n",
    "print(df3)"
   ]
  },
  {
   "cell_type": "code",
   "execution_count": 32,
   "id": "e5d09284-2547-443e-b40c-643591e09b08",
   "metadata": {
    "execution": {
     "iopub.execute_input": "2022-10-29T08:44:40.594308Z",
     "iopub.status.busy": "2022-10-29T08:44:40.594308Z",
     "iopub.status.idle": "2022-10-29T08:44:40.627340Z",
     "shell.execute_reply": "2022-10-29T08:44:40.627340Z",
     "shell.execute_reply.started": "2022-10-29T08:44:40.594308Z"
    },
    "tags": []
   },
   "outputs": [
    {
     "name": "stdout",
     "output_type": "stream",
     "text": [
      "     A    B    C    D    E    F    G    H    A    C    F    H\n",
      "0   a0   b0   c0   d0  NaN  NaN  NaN  NaN   a8   b8   c8   d8\n",
      "1   a1   b1   c1   d1  NaN  NaN  NaN  NaN  NaN  NaN  NaN  NaN\n",
      "2   a2   b2   c2   d2  NaN  NaN  NaN  NaN   a9   b9   c9   d9\n",
      "3   a3   b3   c3   d3  NaN  NaN  NaN  NaN  NaN  NaN  NaN  NaN\n",
      "4  NaN  NaN  NaN  NaN   a4   b4   c4   d4  NaN  NaN  NaN  NaN\n",
      "5  NaN  NaN  NaN  NaN   a5   b5   c5   d5  a10  b10  c10  d10\n",
      "6  NaN  NaN  NaN  NaN   a6   b6   c6   d6  NaN  NaN  NaN  NaN\n",
      "7  NaN  NaN  NaN  NaN   a7   b7   c7   d7  a11  b11  c11  d11\n"
     ]
    }
   ],
   "source": [
    "# 행 방향으로 연결\n",
    "col_concat = pd.concat([df1, df2, df3], axis=1)\n",
    "print(col_concat)"
   ]
  },
  {
   "cell_type": "code",
   "execution_count": 33,
   "id": "667253a8-eba7-4b13-b585-2cbde3d09e8c",
   "metadata": {
    "execution": {
     "iopub.execute_input": "2022-10-29T08:46:01.786205Z",
     "iopub.status.busy": "2022-10-29T08:46:01.778205Z",
     "iopub.status.idle": "2022-10-29T08:46:01.811331Z",
     "shell.execute_reply": "2022-10-29T08:46:01.809595Z",
     "shell.execute_reply.started": "2022-10-29T08:46:01.786205Z"
    }
   },
   "outputs": [
    {
     "name": "stdout",
     "output_type": "stream",
     "text": [
      "    A   B   C   D   A   C   F   H\n",
      "0  a0  b0  c0  d0  a8  b8  c8  d8\n",
      "2  a2  b2  c2  d2  a9  b9  c9  d9\n"
     ]
    }
   ],
   "source": [
    "# df1, df3의 행만 골라 연결\n",
    "print(pd.concat([df1, df3], axis=1, join='inner'))"
   ]
  },
  {
   "cell_type": "markdown",
   "id": "e2d4eb69-43fa-4c93-9b64-671ab6304287",
   "metadata": {},
   "source": [
    "## 데이터 연결 마무리"
   ]
  },
  {
   "cell_type": "markdown",
   "id": "e29c92ca-34f7-4714-9a55-8b161ac65ae9",
   "metadata": {},
   "source": [
    "### merge 메서드 사용\n",
    "- 기본적으로 내부조인\n",
    "- 메서드를 사용한 데이터프레임을 왼쪽으로 지정\n",
    "- 첫번째 인잣값으로 지정한 데이터 프레임을 오른쪽으로 지정\n",
    "- left_on, right_on 인자는 값이 일치해야 할 데이터프레임의 열 지정\n",
    "- 왼쪽 데이터프레임의 열과 오른쪽 데이터프레임의 열의 값이 일치하면 왼쪽을 기준으로 연결 : left_on"
   ]
  },
  {
   "cell_type": "code",
   "execution_count": 36,
   "id": "52495e10-b35e-4c41-8054-97e2b6984619",
   "metadata": {
    "execution": {
     "iopub.execute_input": "2022-10-29T08:53:49.938961Z",
     "iopub.status.busy": "2022-10-29T08:53:49.938961Z",
     "iopub.status.idle": "2022-10-29T08:53:49.993998Z",
     "shell.execute_reply": "2022-10-29T08:53:49.992516Z",
     "shell.execute_reply.started": "2022-10-29T08:53:49.938961Z"
    },
    "tags": []
   },
   "outputs": [
    {
     "name": "stdout",
     "output_type": "stream",
     "text": [
      "      ident   personal    family\n",
      "0      dyer    William      Dyer\n",
      "1        pb      Frank   Pabodie\n",
      "2      lake   Anderson      Lake\n",
      "3       roe  Valentina   Roerich\n",
      "4  danforth      Frank  Danforth\n",
      "    name    lat    long\n",
      "0   DR-1 -49.85 -128.57\n",
      "1   DR-3 -47.15 -126.72\n",
      "2  MSK-4 -48.87 -123.40\n",
      "   ident   site       dated\n",
      "0    619   DR-1  1927-02-08\n",
      "1    622   DR-1  1927-02-10\n",
      "2    734   DR-3  1939-01-07\n",
      "3    735   DR-3  1930-01-12\n",
      "4    751   DR-3  1930-02-26\n",
      "5    752   DR-3         NaN\n",
      "6    837  MSK-4  1932-01-14\n",
      "7    844   DR-1  1932-03-22\n",
      "    taken person quant  reading\n",
      "0     619   dyer   rad     9.82\n",
      "1     619   dyer   sal     0.13\n",
      "2     622   dyer   rad     7.80\n",
      "3     622   dyer   sal     0.09\n",
      "4     734     pb   rad     8.41\n",
      "5     734   lake   sal     0.05\n",
      "6     734     pb  temp   -21.50\n",
      "7     735     pb   rad     7.22\n",
      "8     735    NaN   sal     0.06\n",
      "9     735    NaN  temp   -26.00\n",
      "10    751     pb   rad     4.35\n",
      "11    751     pb  temp   -18.50\n",
      "12    751   lake   sal     0.10\n",
      "13    752   lake   rad     2.19\n",
      "14    752   lake   sal     0.09\n",
      "15    752   lake  temp   -16.00\n",
      "16    752    roe   sal    41.60\n",
      "17    837   lake   rad     1.46\n",
      "18    837   lake   sal     0.21\n",
      "19    837    roe   sal    22.50\n",
      "20    844    roe   rad    11.25\n"
     ]
    }
   ],
   "source": [
    "# 관측한 사람의 이름\n",
    "person = pd.read_csv('C:/k_digital/source/data/survey_person.csv')\n",
    "# 관측 위치\n",
    "site = pd.read_csv('C:/k_digital/source/data/survey_site.csv')\n",
    "# 관측 날짜\n",
    "survey = pd.read_csv('C:/k_digital/source/data/survey_survey.csv')\n",
    "# 날씨 정보\n",
    "visited = pd.read_csv('C:/k_digital/source/data/survey_visited.csv')\n",
    "\n",
    "print(person)\n",
    "print(site)\n",
    "print(visited)\n",
    "print(survey)"
   ]
  },
  {
   "cell_type": "code",
   "execution_count": 37,
   "id": "99939743-45ea-4705-b4a8-a5d7fc9fd726",
   "metadata": {
    "execution": {
     "iopub.execute_input": "2022-10-29T08:54:15.425781Z",
     "iopub.status.busy": "2022-10-29T08:54:15.425781Z",
     "iopub.status.idle": "2022-10-29T08:54:15.449851Z",
     "shell.execute_reply": "2022-10-29T08:54:15.449349Z",
     "shell.execute_reply.started": "2022-10-29T08:54:15.425781Z"
    },
    "tags": []
   },
   "outputs": [],
   "source": [
    "visited_subset = visited.loc[[0, 2, 6], ]"
   ]
  },
  {
   "cell_type": "code",
   "execution_count": 39,
   "id": "19f6e797-256b-4b78-8d20-7469651b7f24",
   "metadata": {
    "execution": {
     "iopub.execute_input": "2022-10-29T08:59:44.595080Z",
     "iopub.status.busy": "2022-10-29T08:59:44.594126Z",
     "iopub.status.idle": "2022-10-29T08:59:44.631699Z",
     "shell.execute_reply": "2022-10-29T08:59:44.630699Z",
     "shell.execute_reply.started": "2022-10-29T08:59:44.595080Z"
    },
    "tags": []
   },
   "outputs": [
    {
     "data": {
      "text/html": [
       "<div>\n",
       "<style scoped>\n",
       "    .dataframe tbody tr th:only-of-type {\n",
       "        vertical-align: middle;\n",
       "    }\n",
       "\n",
       "    .dataframe tbody tr th {\n",
       "        vertical-align: top;\n",
       "    }\n",
       "\n",
       "    .dataframe thead th {\n",
       "        text-align: right;\n",
       "    }\n",
       "</style>\n",
       "<table border=\"1\" class=\"dataframe\">\n",
       "  <thead>\n",
       "    <tr style=\"text-align: right;\">\n",
       "      <th></th>\n",
       "      <th>ident</th>\n",
       "      <th>site</th>\n",
       "      <th>dated</th>\n",
       "    </tr>\n",
       "  </thead>\n",
       "  <tbody>\n",
       "    <tr>\n",
       "      <th>0</th>\n",
       "      <td>619</td>\n",
       "      <td>DR-1</td>\n",
       "      <td>1927-02-08</td>\n",
       "    </tr>\n",
       "    <tr>\n",
       "      <th>2</th>\n",
       "      <td>734</td>\n",
       "      <td>DR-3</td>\n",
       "      <td>1939-01-07</td>\n",
       "    </tr>\n",
       "    <tr>\n",
       "      <th>6</th>\n",
       "      <td>837</td>\n",
       "      <td>MSK-4</td>\n",
       "      <td>1932-01-14</td>\n",
       "    </tr>\n",
       "  </tbody>\n",
       "</table>\n",
       "</div>"
      ],
      "text/plain": [
       "   ident   site       dated\n",
       "0    619   DR-1  1927-02-08\n",
       "2    734   DR-3  1939-01-07\n",
       "6    837  MSK-4  1932-01-14"
      ]
     },
     "execution_count": 39,
     "metadata": {},
     "output_type": "execute_result"
    }
   ],
   "source": [
    "visited_subset"
   ]
  },
  {
   "cell_type": "code",
   "execution_count": 38,
   "id": "6debdee8-ad91-4400-94d5-08f6914ca554",
   "metadata": {
    "execution": {
     "iopub.execute_input": "2022-10-29T08:59:22.625515Z",
     "iopub.status.busy": "2022-10-29T08:59:22.625515Z",
     "iopub.status.idle": "2022-10-29T08:59:22.659056Z",
     "shell.execute_reply": "2022-10-29T08:59:22.658555Z",
     "shell.execute_reply.started": "2022-10-29T08:59:22.625515Z"
    }
   },
   "outputs": [
    {
     "name": "stdout",
     "output_type": "stream",
     "text": [
      "    name    lat    long  ident   site       dated\n",
      "0   DR-1 -49.85 -128.57    619   DR-1  1927-02-08\n",
      "1   DR-3 -47.15 -126.72    734   DR-3  1939-01-07\n",
      "2  MSK-4 -48.87 -123.40    837  MSK-4  1932-01-14\n"
     ]
    }
   ],
   "source": [
    "o2o_merge = site.merge(visited_subset, left_on='name', right_on='site')\n",
    "print(o2o_merge)"
   ]
  },
  {
   "cell_type": "code",
   "execution_count": null,
   "id": "f75c63ef-6a4a-432b-87fa-829351400b3e",
   "metadata": {},
   "outputs": [],
   "source": [
    "# start in 134p"
   ]
  }
 ],
 "metadata": {
  "kernelspec": {
   "display_name": "Python 3 (ipykernel)",
   "language": "python",
   "name": "python3"
  },
  "language_info": {
   "codemirror_mode": {
    "name": "ipython",
    "version": 3
   },
   "file_extension": ".py",
   "mimetype": "text/x-python",
   "name": "python",
   "nbconvert_exporter": "python",
   "pygments_lexer": "ipython3",
   "version": "3.9.13"
  }
 },
 "nbformat": 4,
 "nbformat_minor": 5
}
